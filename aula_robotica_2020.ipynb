{
  "nbformat": 4,
  "nbformat_minor": 0,
  "metadata": {
    "colab": {
      "name": "aula_robotica_2020.ipynb",
      "provenance": [],
      "authorship_tag": "ABX9TyO2HqI7fMVbveNvheqkSMwZ",
      "include_colab_link": true
    },
    "kernelspec": {
      "name": "python3",
      "display_name": "Python 3"
    }
  },
  "cells": [
    {
      "cell_type": "markdown",
      "metadata": {
        "id": "view-in-github",
        "colab_type": "text"
      },
      "source": [
        "<a href=\"https://colab.research.google.com/github/IgorB99/aula_robotica/blob/master/aula_robotica_2020.ipynb\" target=\"_parent\"><img src=\"https://colab.research.google.com/assets/colab-badge.svg\" alt=\"Open In Colab\"/></a>"
      ]
    },
    {
      "cell_type": "markdown",
      "metadata": {
        "id": "oWYnWVUHi63d",
        "colab_type": "text"
      },
      "source": [
        "#aula 27/08"
      ]
    },
    {
      "cell_type": "markdown",
      "metadata": {
        "id": "A2CfaLRQlr-e",
        "colab_type": "text"
      },
      "source": [
        "lista: um array"
      ]
    },
    {
      "cell_type": "code",
      "metadata": {
        "id": "GlqsgDm4jPwV",
        "colab_type": "code",
        "colab": {
          "base_uri": "https://localhost:8080/",
          "height": 34
        },
        "outputId": "a717d7c7-b31a-412c-8228-c477c8d12cf8"
      },
      "source": [
        "lista1 = [1, 2, 3, \"oi\"]\n",
        "print(lista1[1])"
      ],
      "execution_count": null,
      "outputs": [
        {
          "output_type": "stream",
          "text": [
            "2\n"
          ],
          "name": "stdout"
        }
      ]
    },
    {
      "cell_type": "markdown",
      "metadata": {
        "id": "xn_yBUtOlhhy",
        "colab_type": "text"
      },
      "source": [
        "tuplas: um array cujo valor não pode ser alterado"
      ]
    },
    {
      "cell_type": "code",
      "metadata": {
        "id": "nH76cOd8lSmN",
        "colab_type": "code",
        "colab": {
          "base_uri": "https://localhost:8080/",
          "height": 34
        },
        "outputId": "b3445f6f-0bdf-40d2-beaf-3e87302d722a"
      },
      "source": [
        "tuplas1 = (1, 2, 3, \"oi\")\n",
        "print(tuplas1[1])"
      ],
      "execution_count": null,
      "outputs": [
        {
          "output_type": "stream",
          "text": [
            "2\n"
          ],
          "name": "stdout"
        }
      ]
    },
    {
      "cell_type": "markdown",
      "metadata": {
        "id": "CChtB6ndl5K9",
        "colab_type": "text"
      },
      "source": [
        "dicionário: um array onde cada valor possui um index"
      ]
    },
    {
      "cell_type": "code",
      "metadata": {
        "id": "TGlJ8ZqRlv3w",
        "colab_type": "code",
        "colab": {
          "base_uri": "https://localhost:8080/",
          "height": 34
        },
        "outputId": "4873ab9d-7d8d-44c7-97b4-42e7a66d0e71"
      },
      "source": [
        "dicionario1 = {\"arroz\" : 13.5, \"feijão\" : 10.3, \"carne\" : 6.9}\n",
        "print(dicionario1[\"feijão\"])"
      ],
      "execution_count": null,
      "outputs": [
        {
          "output_type": "stream",
          "text": [
            "10.3\n"
          ],
          "name": "stdout"
        }
      ]
    },
    {
      "cell_type": "code",
      "metadata": {
        "id": "UCwZCoKvqo6z",
        "colab_type": "code",
        "colab": {
          "base_uri": "https://localhost:8080/",
          "height": 34
        },
        "outputId": "f5c5a1cc-3ca4-4c86-e107-83f72679645d"
      },
      "source": [
        "import numpy as np\n",
        "\n",
        "a = np.array([[1, 2, 3], [4, 5, 6], [7, 8, 9]])\n",
        "print(a[1][0])"
      ],
      "execution_count": null,
      "outputs": [
        {
          "output_type": "stream",
          "text": [
            "4\n"
          ],
          "name": "stdout"
        }
      ]
    },
    {
      "cell_type": "markdown",
      "metadata": {
        "id": "zn-8lNJ-zDMW",
        "colab_type": "text"
      },
      "source": [
        "Exercício 1"
      ]
    },
    {
      "cell_type": "code",
      "metadata": {
        "id": "sVMc7NfBt5w8",
        "colab_type": "code",
        "colab": {
          "base_uri": "https://localhost:8080/",
          "height": 119
        },
        "outputId": "8028bf5a-3b86-49a3-c6cb-0f8afc34dce5"
      },
      "source": [
        "L = [5, 7, 2, 9, 4, 1, 3]\n",
        "a = len(L)\n",
        "b = max(L)\n",
        "c = min(L)\n",
        "d = 0\n",
        "for x in range(a):\n",
        "  d += L[x]\n",
        "\n",
        "print(\"a = \" + str(a))\n",
        "print(\"b = \" + str(b))\n",
        "print(\"c = \" + str(c))\n",
        "print(\"d = \" + str(d))\n",
        "L.sort()\n",
        "print(\"e = \" + str(L))\n",
        "L.reverse()\n",
        "print(\"f = \" + str(L))\n"
      ],
      "execution_count": null,
      "outputs": [
        {
          "output_type": "stream",
          "text": [
            "a = 7\n",
            "b = 9\n",
            "c = 1\n",
            "d = 31\n",
            "e = [1, 2, 3, 4, 5, 7, 9]\n",
            "f = [9, 7, 5, 4, 3, 2, 1]\n"
          ],
          "name": "stdout"
        }
      ]
    },
    {
      "cell_type": "markdown",
      "metadata": {
        "id": "GiK8wBY60p6l",
        "colab_type": "text"
      },
      "source": [
        "Exercício 2"
      ]
    },
    {
      "cell_type": "code",
      "metadata": {
        "id": "LM2dnjvPzNHt",
        "colab_type": "code",
        "colab": {
          "base_uri": "https://localhost:8080/",
          "height": 68
        },
        "outputId": "4fb53ee4-c5ed-4fc2-892b-87d538f618f1"
      },
      "source": [
        "x = int(input(\"digite um valor: \"))\n",
        "y = int(input(\"digite outro valor: \"))\n",
        "z = ((x * 2) + (y * 2)) * ((x - y) * (x - y))\n",
        "print(z)"
      ],
      "execution_count": null,
      "outputs": [
        {
          "output_type": "stream",
          "text": [
            "digite um valor: 2\n",
            "digite outro valor: 3\n",
            "10\n"
          ],
          "name": "stdout"
        }
      ]
    },
    {
      "cell_type": "markdown",
      "metadata": {
        "id": "8-I4KUvT1dmY",
        "colab_type": "text"
      },
      "source": [
        "Exercício 3"
      ]
    },
    {
      "cell_type": "code",
      "metadata": {
        "id": "ekdqzKgh0upA",
        "colab_type": "code",
        "colab": {
          "base_uri": "https://localhost:8080/",
          "height": 34
        },
        "outputId": "24c92901-9e26-41a7-e46a-6cd127df2c0d"
      },
      "source": [
        "Lanchonete = {\"salgado\" : 4.5, \"lanche\" : 6.5, \"suco\" : 3, \"refrigerante\": 3.5, \"doce\": 1}\n",
        "print(Lanchonete)"
      ],
      "execution_count": null,
      "outputs": [
        {
          "output_type": "stream",
          "text": [
            "{'salgado': 4.5, 'lanche': 6.5, 'suco': 3, 'refrigerante': 3.5, 'doce': 1}\n"
          ],
          "name": "stdout"
        }
      ]
    },
    {
      "cell_type": "markdown",
      "metadata": {
        "id": "JnYIVKCadMTz",
        "colab_type": "text"
      },
      "source": [
        "# aula 21/08"
      ]
    },
    {
      "cell_type": "markdown",
      "metadata": {
        "id": "-jK7lDKWet3z",
        "colab_type": "text"
      },
      "source": [
        "exemplo 1"
      ]
    },
    {
      "cell_type": "code",
      "metadata": {
        "id": "bMoLIp-Jdt1a",
        "colab_type": "code",
        "colab": {
          "base_uri": "https://localhost:8080/",
          "height": 34
        },
        "outputId": "deff8594-cf12-4b88-fcaa-a6aae68a86bb"
      },
      "source": [
        "print(\"Hello World\")"
      ],
      "execution_count": null,
      "outputs": [
        {
          "output_type": "stream",
          "text": [
            "Hello World\n"
          ],
          "name": "stdout"
        }
      ]
    },
    {
      "cell_type": "markdown",
      "metadata": {
        "id": "iYQQnIK2i8kx",
        "colab_type": "text"
      },
      "source": [
        "exemplo 2"
      ]
    },
    {
      "cell_type": "code",
      "metadata": {
        "id": "dK8NptKJjcZu",
        "colab_type": "code",
        "colab": {
          "base_uri": "https://localhost:8080/",
          "height": 34
        },
        "outputId": "fbfbd170-a382-4f88-f462-efd5219041aa"
      },
      "source": [
        "import cv2\n",
        "import numpy as np\n",
        "\n",
        "altura = 100\n",
        "largura = 100\n",
        "img = np.zeros([altura, largura, 3])\n",
        "for py in range(altura):\n",
        "  for px in range(largura):\n",
        "    img[py][px][0] = 0\n",
        "    img[py][px][1] = 255\n",
        "    img[py][px][2] = 255\n",
        "cv2.imwrite(\"color_img.png\", img)\n"
      ],
      "execution_count": null,
      "outputs": [
        {
          "output_type": "execute_result",
          "data": {
            "text/plain": [
              "True"
            ]
          },
          "metadata": {
            "tags": []
          },
          "execution_count": 9
        }
      ]
    }
  ]
}