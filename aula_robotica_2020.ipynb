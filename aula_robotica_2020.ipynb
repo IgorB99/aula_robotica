{
  "nbformat": 4,
  "nbformat_minor": 0,
  "metadata": {
    "colab": {
      "name": "aula_robotica_2020.ipynb",
      "provenance": [],
      "toc_visible": true,
      "authorship_tag": "ABX9TyOAhGMWYzyvc+ZARpi1tJYP",
      "include_colab_link": true
    },
    "kernelspec": {
      "name": "python3",
      "display_name": "Python 3"
    }
  },
  "cells": [
    {
      "cell_type": "markdown",
      "metadata": {
        "id": "view-in-github",
        "colab_type": "text"
      },
      "source": [
        "<a href=\"https://colab.research.google.com/github/IgorB99/aula_robotica/blob/master/aula_robotica_2020.ipynb\" target=\"_parent\"><img src=\"https://colab.research.google.com/assets/colab-badge.svg\" alt=\"Open In Colab\"/></a>"
      ]
    },
    {
      "cell_type": "markdown",
      "metadata": {
        "id": "dmNxV4zYmkq-",
        "colab_type": "text"
      },
      "source": [
        "#aula 10/09"
      ]
    },
    {
      "cell_type": "markdown",
      "metadata": {
        "id": "TXdDP0GRASvz",
        "colab_type": "text"
      },
      "source": [
        "mudar o brilho e contraste da imagem"
      ]
    },
    {
      "cell_type": "code",
      "metadata": {
        "id": "NnLUL9-l2tYK",
        "colab_type": "code",
        "colab": {}
      },
      "source": [
        "import cv2\n",
        "import numpy as np\n",
        "\n",
        "def contrasteBrilho(img, alpha, beta):\n",
        "  for y in range(img.shape[0]):\n",
        "    for x in range(img.shape[1]):\n",
        "      for c in range(img.shape[2]):\n",
        "        img[y, x, c] = np.clip(alpha * img[y, x, c] + beta, 0, 255)\n",
        "  cv2.imwrite(\"fileCB.jpg\", img)\n",
        "\n",
        "image = cv2.imread(\"file.jpg\")\n",
        "\n",
        "contrasteBrilho(image, 2, -100)\n",
        "\n"
      ],
      "execution_count": 19,
      "outputs": []
    },
    {
      "cell_type": "markdown",
      "metadata": {
        "id": "6zv23WZeAbWJ",
        "colab_type": "text"
      },
      "source": [
        "mudar a resolução da imagem"
      ]
    },
    {
      "cell_type": "code",
      "metadata": {
        "id": "EWAQ31cl92wd",
        "colab_type": "code",
        "colab": {}
      },
      "source": [
        "import cv2\n",
        "import numpy as np\n",
        "\n",
        "\n",
        "def Resize_imagem(img, escale_percent):\n",
        "  altura = int(img.shape[1] * escale_percent / 100)\n",
        "  largura = int(img.shape[0] * escale_percent / 100)\n",
        "  dim = (altura, largura)\n",
        "\n",
        "  nova_imagem = cv2.resize(img, dim, interpolation = cv2.INTER_AREA)\n",
        "  cv2.imwrite(\"file\" + str(escale_percent) + \"%.jpg\", nova_imagem)\n",
        "\n",
        "image = cv2.imread(\"file.jpg\")\n",
        "\n",
        "Resize_imagem(image, 200)"
      ],
      "execution_count": 25,
      "outputs": []
    },
    {
      "cell_type": "code",
      "metadata": {
        "id": "gmVB3OJKmr6Z",
        "colab_type": "code",
        "colab": {
          "base_uri": "https://localhost:8080/",
          "height": 1000
        },
        "outputId": "d88a3f77-94b3-4707-b9b7-9c4bb2176c40"
      },
      "source": [
        "import cv2\n",
        "import numpy as np\n",
        "import matplotlib.pylab as plt\n",
        "\n",
        "image = cv2.imread(\"circulos.jpg\")\n",
        "img = cv2.cvtColor(image, cv2.COLOR_BGR2GRAY)\n",
        "\n",
        "histogram = cv2.calcHist([img],[0],None,[256],[0,256])\n",
        "for x in range(0,255):\n",
        "  print( x, \"\\t\",int(histogram[x]),end=\"\\n\")\n",
        "\n",
        "print(\"\\n\")\n",
        "for i in range(254):\n",
        "  pto_mais = histogram[i + 1] - histogram[i]\n",
        "  pto_menos = histogram[i + 2] - histogram[i + 1]\n",
        "  if (( pto_mais > 100) and (pto_menos < 0)):\n",
        "    print ( int(i + 1), \"\\t\", int(pto_mais), \"\\t\", int(pto_menos), end = \"\\n\")\n",
        "\n",
        "color = (\"b\", \"g\", \"r\")\n",
        "for i, col in enumerate(color):\n",
        "  histr = cv2.calcHist([img], [0], None, [256], [0, 256])\n",
        "  plt.plot(histr, color = col)\n",
        "  plt.xlim([0, 256])\n",
        "plt.show()"
      ],
      "execution_count": 51,
      "outputs": [
        {
          "output_type": "stream",
          "text": [
            "0 \t 0\n",
            "1 \t 0\n",
            "2 \t 0\n",
            "3 \t 0\n",
            "4 \t 0\n",
            "5 \t 0\n",
            "6 \t 0\n",
            "7 \t 0\n",
            "8 \t 0\n",
            "9 \t 0\n",
            "10 \t 0\n",
            "11 \t 0\n",
            "12 \t 0\n",
            "13 \t 0\n",
            "14 \t 0\n",
            "15 \t 0\n",
            "16 \t 0\n",
            "17 \t 0\n",
            "18 \t 0\n",
            "19 \t 0\n",
            "20 \t 0\n",
            "21 \t 0\n",
            "22 \t 0\n",
            "23 \t 0\n",
            "24 \t 0\n",
            "25 \t 0\n",
            "26 \t 0\n",
            "27 \t 0\n",
            "28 \t 0\n",
            "29 \t 0\n",
            "30 \t 0\n",
            "31 \t 0\n",
            "32 \t 0\n",
            "33 \t 0\n",
            "34 \t 0\n",
            "35 \t 0\n",
            "36 \t 0\n",
            "37 \t 0\n",
            "38 \t 0\n",
            "39 \t 0\n",
            "40 \t 0\n",
            "41 \t 0\n",
            "42 \t 0\n",
            "43 \t 0\n",
            "44 \t 0\n",
            "45 \t 0\n",
            "46 \t 0\n",
            "47 \t 0\n",
            "48 \t 0\n",
            "49 \t 0\n",
            "50 \t 0\n",
            "51 \t 0\n",
            "52 \t 0\n",
            "53 \t 0\n",
            "54 \t 0\n",
            "55 \t 0\n",
            "56 \t 0\n",
            "57 \t 0\n",
            "58 \t 0\n",
            "59 \t 0\n",
            "60 \t 0\n",
            "61 \t 0\n",
            "62 \t 0\n",
            "63 \t 0\n",
            "64 \t 0\n",
            "65 \t 0\n",
            "66 \t 0\n",
            "67 \t 0\n",
            "68 \t 0\n",
            "69 \t 0\n",
            "70 \t 0\n",
            "71 \t 0\n",
            "72 \t 0\n",
            "73 \t 0\n",
            "74 \t 0\n",
            "75 \t 0\n",
            "76 \t 0\n",
            "77 \t 0\n",
            "78 \t 0\n",
            "79 \t 0\n",
            "80 \t 0\n",
            "81 \t 0\n",
            "82 \t 0\n",
            "83 \t 0\n",
            "84 \t 1\n",
            "85 \t 4\n",
            "86 \t 20\n",
            "87 \t 39\n",
            "88 \t 75\n",
            "89 \t 141\n",
            "90 \t 148\n",
            "91 \t 5973\n",
            "92 \t 186\n",
            "93 \t 145\n",
            "94 \t 94\n",
            "95 \t 46\n",
            "96 \t 30\n",
            "97 \t 2\n",
            "98 \t 3\n",
            "99 \t 0\n",
            "100 \t 0\n",
            "101 \t 0\n",
            "102 \t 0\n",
            "103 \t 0\n",
            "104 \t 0\n",
            "105 \t 0\n",
            "106 \t 0\n",
            "107 \t 0\n",
            "108 \t 0\n",
            "109 \t 0\n",
            "110 \t 0\n",
            "111 \t 0\n",
            "112 \t 0\n",
            "113 \t 0\n",
            "114 \t 4\n",
            "115 \t 3\n",
            "116 \t 1\n",
            "117 \t 25\n",
            "118 \t 32\n",
            "119 \t 67\n",
            "120 \t 147\n",
            "121 \t 248\n",
            "122 \t 5730\n",
            "123 \t 552\n",
            "124 \t 261\n",
            "125 \t 266\n",
            "126 \t 257\n",
            "127 \t 5975\n",
            "128 \t 226\n",
            "129 \t 159\n",
            "130 \t 83\n",
            "131 \t 51\n",
            "132 \t 21\n",
            "133 \t 15\n",
            "134 \t 2\n",
            "135 \t 1\n",
            "136 \t 1\n",
            "137 \t 0\n",
            "138 \t 0\n",
            "139 \t 0\n",
            "140 \t 0\n",
            "141 \t 0\n",
            "142 \t 0\n",
            "143 \t 0\n",
            "144 \t 0\n",
            "145 \t 0\n",
            "146 \t 0\n",
            "147 \t 0\n",
            "148 \t 0\n",
            "149 \t 0\n",
            "150 \t 0\n",
            "151 \t 0\n",
            "152 \t 0\n",
            "153 \t 0\n",
            "154 \t 0\n",
            "155 \t 0\n",
            "156 \t 0\n",
            "157 \t 0\n",
            "158 \t 0\n",
            "159 \t 0\n",
            "160 \t 0\n",
            "161 \t 0\n",
            "162 \t 0\n",
            "163 \t 0\n",
            "164 \t 0\n",
            "165 \t 0\n",
            "166 \t 0\n",
            "167 \t 0\n",
            "168 \t 0\n",
            "169 \t 0\n",
            "170 \t 0\n",
            "171 \t 0\n",
            "172 \t 0\n",
            "173 \t 0\n",
            "174 \t 0\n",
            "175 \t 0\n",
            "176 \t 0\n",
            "177 \t 0\n",
            "178 \t 0\n",
            "179 \t 0\n",
            "180 \t 0\n",
            "181 \t 0\n",
            "182 \t 1\n",
            "183 \t 0\n",
            "184 \t 2\n",
            "185 \t 2\n",
            "186 \t 8\n",
            "187 \t 16\n",
            "188 \t 54\n",
            "189 \t 86\n",
            "190 \t 164\n",
            "191 \t 215\n",
            "192 \t 6232\n",
            "193 \t 296\n",
            "194 \t 271\n",
            "195 \t 548\n",
            "196 \t 7185\n",
            "197 \t 255\n",
            "198 \t 116\n",
            "199 \t 61\n",
            "200 \t 53\n",
            "201 \t 26\n",
            "202 \t 8\n",
            "203 \t 0\n",
            "204 \t 0\n",
            "205 \t 1\n",
            "206 \t 0\n",
            "207 \t 0\n",
            "208 \t 0\n",
            "209 \t 0\n",
            "210 \t 0\n",
            "211 \t 0\n",
            "212 \t 0\n",
            "213 \t 0\n",
            "214 \t 0\n",
            "215 \t 0\n",
            "216 \t 0\n",
            "217 \t 0\n",
            "218 \t 0\n",
            "219 \t 0\n",
            "220 \t 0\n",
            "221 \t 0\n",
            "222 \t 0\n",
            "223 \t 0\n",
            "224 \t 0\n",
            "225 \t 0\n",
            "226 \t 0\n",
            "227 \t 0\n",
            "228 \t 0\n",
            "229 \t 1\n",
            "230 \t 1\n",
            "231 \t 4\n",
            "232 \t 8\n",
            "233 \t 8\n",
            "234 \t 13\n",
            "235 \t 14\n",
            "236 \t 21\n",
            "237 \t 25\n",
            "238 \t 36\n",
            "239 \t 49\n",
            "240 \t 38\n",
            "241 \t 43\n",
            "242 \t 61\n",
            "243 \t 60\n",
            "244 \t 65\n",
            "245 \t 116\n",
            "246 \t 125\n",
            "247 \t 198\n",
            "248 \t 152\n",
            "249 \t 214\n",
            "250 \t 270\n",
            "251 \t 420\n",
            "252 \t 515\n",
            "253 \t 1119\n",
            "254 \t 5787\n",
            "\n",
            "\n",
            "91 \t 5825 \t -5787\n",
            "122 \t 5482 \t -5178\n",
            "127 \t 5718 \t -5749\n",
            "192 \t 6017 \t -5936\n",
            "196 \t 6637 \t -6930\n"
          ],
          "name": "stdout"
        },
        {
          "output_type": "display_data",
          "data": {
            "image/png": "[encoded data removed]",
            "text/plain": [
              "<Figure size 432x288 with 1 Axes>"
            ]
          },
          "metadata": {
            "tags": [],
            "needs_background": "light"
          }
        }
      ]
    },
    {
      "cell_type": "markdown",
      "metadata": {
        "id": "LRpVBkCkpU0X",
        "colab_type": "text"
      },
      "source": [
        "#aula 04/09"
      ]
    },
    {
      "cell_type": "code",
      "metadata": {
        "id": "0fB8Dx1RpZEb",
        "colab_type": "code",
        "colab": {
          "base_uri": "https://localhost:8080/",
          "height": 34
        },
        "outputId": "c54f1bd2-477a-4a8c-8a15-80f193e1e925"
      },
      "source": [
        "import cv2\n",
        "import numpy as np\n",
        "\n",
        "image = cv2.imread(\"file.jpg\")\n",
        "height, width, bytesByPixel = np.shape(image)\n",
        "img = np.zeros([height, width, 3])\n",
        "\n",
        "for py in range(height):\n",
        "  for px in range(width):\n",
        "    img[py][px][0] = image[py][px][0]\n",
        "    img[py][px][1] = image[py][px][0]\n",
        "    img[py][px][2] = image[py][px][0]\n",
        "cv2.imwrite(\"file1.jpg\", img)\n",
        "\n",
        "for py in range(height):\n",
        "  for px in range(width):\n",
        "    img[py][px][0] = image[py][px][1]\n",
        "    img[py][px][1] = image[py][px][1]\n",
        "    img[py][px][2] = image[py][px][1]\n",
        "cv2.imwrite(\"file2.jpg\", img)\n",
        "\n",
        "for py in range(height):\n",
        "  for px in range(width):\n",
        "    img[py][px][0] = image[py][px][2]\n",
        "    img[py][px][1] = image[py][px][2]\n",
        "    img[py][px][2] = image[py][px][2]\n",
        "cv2.imwrite(\"file3.jpg\", img)\n",
        "\n",
        "img1 = cv2.imread(\"file1.jpg\", 0)\n",
        "img2 = cv2.imread(\"file2.jpg\", 0)\n",
        "img3 = cv2.imread(\"file3.jpg\", 0)\n",
        "ret, thresh1 = cv2.threshold(img1, 127, 255, cv2.THRESH_BINARY)\n",
        "ret, thresh2 = cv2.threshold(img2, 127, 255, cv2.THRESH_BINARY)\n",
        "ret, thresh3 = cv2.threshold(img3, 127, 255, cv2.THRESH_BINARY)\n",
        "\n",
        "cv2.imwrite(\"file1v2.jpg\", thresh1)\n",
        "cv2.imwrite(\"file2v2.jpg\", thresh2)\n",
        "cv2.imwrite(\"file3v2.jpg\", thresh3)"
      ],
      "execution_count": null,
      "outputs": [
        {
          "output_type": "execute_result",
          "data": {
            "text/plain": [
              "True"
            ]
          },
          "metadata": {
            "tags": []
          },
          "execution_count": 1
        }
      ]
    },
    {
      "cell_type": "markdown",
      "metadata": {
        "id": "ddcNiagSntjP",
        "colab_type": "text"
      },
      "source": [
        "#aula 03/09"
      ]
    },
    {
      "cell_type": "code",
      "metadata": {
        "id": "Sx32v4RuXyg3",
        "colab_type": "code",
        "colab": {
          "base_uri": "https://localhost:8080/",
          "height": 34
        },
        "outputId": "20b9bf76-b628-49b4-c9d3-055d1fdb8a79"
      },
      "source": [
        "import cv2\n",
        "import numpy as np\n",
        "\n",
        "image = cv2.imread(\"file.jpg\")\n",
        "height, width, bytesByPixel = np.shape(image)\n",
        "img = np.zeros([height, width, 3])\n",
        "\n",
        "for py in range(height):\n",
        "  for px in range(width):\n",
        "    c = (image[py][px][0] * 0.11) + (image[py][px][1] * 0.59) + (image[py][px][2] * 0.29)\n",
        "    img[py][px][0] = c\n",
        "    img[py][px][1] = c\n",
        "    img[py][px][2] = c\n",
        "cv2.imwrite(\"fileC.jpg\", img)"
      ],
      "execution_count": null,
      "outputs": [
        {
          "output_type": "execute_result",
          "data": {
            "text/plain": [
              "True"
            ]
          },
          "metadata": {
            "tags": []
          },
          "execution_count": 8
        }
      ]
    },
    {
      "cell_type": "code",
      "metadata": {
        "id": "HapObwAin1Kn",
        "colab_type": "code",
        "colab": {
          "base_uri": "https://localhost:8080/",
          "height": 265
        },
        "outputId": "17036cbe-579b-47f7-b5bf-5533abc16697"
      },
      "source": [
        "import cv2\n",
        "import matplotlib.pylab as plt\n",
        "\n",
        "imagem = cv2.imread(\"file.jpg\")\n",
        "color = (\"b\", \"g\", \"r\")\n",
        "for i, col in enumerate(color):\n",
        "  histr = cv2.calcHist([imagem], [i], None, [256], [0, 256])\n",
        "  plt.plot(histr, color = col)\n",
        "  plt.xlim([0, 256])\n",
        "plt.show()"
      ],
      "execution_count": null,
      "outputs": [
        {
          "output_type": "display_data",
          "data": {
            "image/png": "[encoded data removed]",
            "text/plain": [
              "<Figure size 432x288 with 1 Axes>"
            ]
          },
          "metadata": {
            "tags": [],
            "needs_background": "light"
          }
        }
      ]
    },
    {
      "cell_type": "markdown",
      "metadata": {
        "id": "Zyb4CzTxrqXQ",
        "colab_type": "text"
      },
      "source": [
        "#aula 28/08"
      ]
    },
    {
      "cell_type": "code",
      "metadata": {
        "id": "w8Ptj4rKumiU",
        "colab_type": "code",
        "colab": {
          "base_uri": "https://localhost:8080/",
          "height": 1000
        },
        "outputId": "597c09b6-2d54-43d1-dbeb-16e0a6cc7a7c"
      },
      "source": [
        "import cv2\n",
        "import numpy as np\n",
        "\n",
        "image = cv2.imread(\"color_img.png\")\n",
        "altura, largura, vytesPorPixel = np.shape(image)\n",
        "\n",
        "for index in range(3):\n",
        "  if index == 0:\n",
        "    print(\"azul\")\n",
        "  elif index == 1:\n",
        "    print(\"verde\")\n",
        "  else:\n",
        "    print(\"vermelho\")\n",
        "  for py in range(altura):\n",
        "    for px in range(largura):\n",
        "      print(image[py][px][index], '\\t', end='')\n",
        "    print(\"\\n\")"
      ],
      "execution_count": null,
      "outputs": [
        {
          "output_type": "stream",
          "text": [
            "azul\n",
            "0 \t0 \t0 \t0 \t0 \t0 \t0 \t0 \t0 \t0 \t\n",
            "\n",
            "0 \t0 \t0 \t0 \t0 \t0 \t0 \t0 \t0 \t0 \t\n",
            "\n",
            "0 \t0 \t0 \t0 \t0 \t0 \t0 \t0 \t0 \t0 \t\n",
            "\n",
            "0 \t0 \t0 \t0 \t0 \t0 \t0 \t0 \t0 \t0 \t\n",
            "\n",
            "0 \t0 \t0 \t0 \t0 \t0 \t0 \t0 \t0 \t0 \t\n",
            "\n",
            "0 \t0 \t0 \t0 \t0 \t0 \t0 \t0 \t0 \t0 \t\n",
            "\n",
            "0 \t0 \t0 \t0 \t0 \t0 \t0 \t0 \t0 \t0 \t\n",
            "\n",
            "0 \t0 \t0 \t0 \t0 \t0 \t0 \t0 \t0 \t0 \t\n",
            "\n",
            "0 \t0 \t0 \t0 \t0 \t0 \t0 \t0 \t0 \t0 \t\n",
            "\n",
            "0 \t0 \t0 \t0 \t0 \t0 \t0 \t0 \t0 \t0 \t\n",
            "\n",
            "verde\n",
            "255 \t255 \t255 \t255 \t255 \t255 \t255 \t255 \t255 \t255 \t\n",
            "\n",
            "255 \t255 \t255 \t255 \t255 \t255 \t255 \t255 \t255 \t255 \t\n",
            "\n",
            "255 \t255 \t255 \t255 \t255 \t255 \t255 \t255 \t255 \t255 \t\n",
            "\n",
            "255 \t255 \t255 \t255 \t255 \t255 \t255 \t255 \t255 \t255 \t\n",
            "\n",
            "255 \t255 \t255 \t255 \t255 \t255 \t255 \t255 \t255 \t255 \t\n",
            "\n",
            "255 \t255 \t255 \t255 \t255 \t255 \t255 \t255 \t255 \t255 \t\n",
            "\n",
            "255 \t255 \t255 \t255 \t255 \t255 \t255 \t255 \t255 \t255 \t\n",
            "\n",
            "255 \t255 \t255 \t255 \t255 \t255 \t255 \t255 \t255 \t255 \t\n",
            "\n",
            "255 \t255 \t255 \t255 \t255 \t255 \t255 \t255 \t255 \t255 \t\n",
            "\n",
            "255 \t255 \t255 \t255 \t255 \t255 \t255 \t255 \t255 \t255 \t\n",
            "\n",
            "vermelho\n",
            "255 \t255 \t255 \t255 \t255 \t255 \t255 \t255 \t255 \t255 \t\n",
            "\n",
            "255 \t255 \t255 \t255 \t255 \t255 \t255 \t255 \t255 \t255 \t\n",
            "\n",
            "255 \t255 \t255 \t255 \t255 \t255 \t255 \t255 \t255 \t255 \t\n",
            "\n",
            "255 \t255 \t255 \t255 \t255 \t255 \t255 \t255 \t255 \t255 \t\n",
            "\n",
            "255 \t255 \t255 \t255 \t255 \t255 \t255 \t255 \t255 \t255 \t\n",
            "\n",
            "255 \t255 \t255 \t255 \t255 \t255 \t255 \t255 \t255 \t255 \t\n",
            "\n",
            "255 \t255 \t255 \t255 \t255 \t255 \t255 \t255 \t255 \t255 \t\n",
            "\n",
            "255 \t255 \t255 \t255 \t255 \t255 \t255 \t255 \t255 \t255 \t\n",
            "\n",
            "255 \t255 \t255 \t255 \t255 \t255 \t255 \t255 \t255 \t255 \t\n",
            "\n",
            "255 \t255 \t255 \t255 \t255 \t255 \t255 \t255 \t255 \t255 \t\n",
            "\n"
          ],
          "name": "stdout"
        }
      ]
    },
    {
      "cell_type": "code",
      "metadata": {
        "id": "UniQm-nIrxK7",
        "colab_type": "code",
        "colab": {
          "base_uri": "https://localhost:8080/",
          "height": 117
        },
        "outputId": "411fc72e-7db0-42bf-c4de-3159ecbe42dc"
      },
      "source": [
        "from IPython.display import Image\n",
        "\n",
        "filename = \"color_img.png\"\n",
        "\n",
        "display(Image(filename))"
      ],
      "execution_count": null,
      "outputs": [
        {
          "output_type": "display_data",
          "data": {
            "image/png": "[encoded data removed]",
            "text/plain": [
              "<IPython.core.display.Image object>"
            ]
          },
          "metadata": {
            "tags": []
          }
        }
      ]
    },
    {
      "cell_type": "markdown",
      "metadata": {
        "id": "oWYnWVUHi63d",
        "colab_type": "text"
      },
      "source": [
        "#aula 27/08"
      ]
    },
    {
      "cell_type": "markdown",
      "metadata": {
        "id": "A2CfaLRQlr-e",
        "colab_type": "text"
      },
      "source": [
        "lista: um array"
      ]
    },
    {
      "cell_type": "code",
      "metadata": {
        "id": "GlqsgDm4jPwV",
        "colab_type": "code",
        "colab": {
          "base_uri": "https://localhost:8080/",
          "height": 34
        },
        "outputId": "a717d7c7-b31a-412c-8228-c477c8d12cf8"
      },
      "source": [
        "lista1 = [1, 2, 3, \"oi\"]\n",
        "print(lista1[1])"
      ],
      "execution_count": null,
      "outputs": [
        {
          "output_type": "stream",
          "text": [
            "2\n"
          ],
          "name": "stdout"
        }
      ]
    },
    {
      "cell_type": "markdown",
      "metadata": {
        "id": "xn_yBUtOlhhy",
        "colab_type": "text"
      },
      "source": [
        "tuplas: um array cujo valor não pode ser alterado"
      ]
    },
    {
      "cell_type": "code",
      "metadata": {
        "id": "nH76cOd8lSmN",
        "colab_type": "code",
        "colab": {
          "base_uri": "https://localhost:8080/",
          "height": 34
        },
        "outputId": "b3445f6f-0bdf-40d2-beaf-3e87302d722a"
      },
      "source": [
        "tuplas1 = (1, 2, 3, \"oi\")\n",
        "print(tuplas1[1])"
      ],
      "execution_count": null,
      "outputs": [
        {
          "output_type": "stream",
          "text": [
            "2\n"
          ],
          "name": "stdout"
        }
      ]
    },
    {
      "cell_type": "markdown",
      "metadata": {
        "id": "CChtB6ndl5K9",
        "colab_type": "text"
      },
      "source": [
        "dicionário: um array onde cada valor possui um index"
      ]
    },
    {
      "cell_type": "code",
      "metadata": {
        "id": "TGlJ8ZqRlv3w",
        "colab_type": "code",
        "colab": {
          "base_uri": "https://localhost:8080/",
          "height": 34
        },
        "outputId": "4873ab9d-7d8d-44c7-97b4-42e7a66d0e71"
      },
      "source": [
        "dicionario1 = {\"arroz\" : 13.5, \"feijão\" : 10.3, \"carne\" : 6.9}\n",
        "print(dicionario1[\"feijão\"])"
      ],
      "execution_count": null,
      "outputs": [
        {
          "output_type": "stream",
          "text": [
            "10.3\n"
          ],
          "name": "stdout"
        }
      ]
    },
    {
      "cell_type": "code",
      "metadata": {
        "id": "UCwZCoKvqo6z",
        "colab_type": "code",
        "colab": {
          "base_uri": "https://localhost:8080/",
          "height": 34
        },
        "outputId": "f5c5a1cc-3ca4-4c86-e107-83f72679645d"
      },
      "source": [
        "import numpy as np\n",
        "\n",
        "a = np.array([[1, 2, 3], [4, 5, 6], [7, 8, 9]])\n",
        "print(a[1][0])"
      ],
      "execution_count": null,
      "outputs": [
        {
          "output_type": "stream",
          "text": [
            "4\n"
          ],
          "name": "stdout"
        }
      ]
    },
    {
      "cell_type": "markdown",
      "metadata": {
        "id": "zn-8lNJ-zDMW",
        "colab_type": "text"
      },
      "source": [
        "Exercício 1"
      ]
    },
    {
      "cell_type": "code",
      "metadata": {
        "id": "sVMc7NfBt5w8",
        "colab_type": "code",
        "colab": {
          "base_uri": "https://localhost:8080/",
          "height": 119
        },
        "outputId": "8028bf5a-3b86-49a3-c6cb-0f8afc34dce5"
      },
      "source": [
        "L = [5, 7, 2, 9, 4, 1, 3]\n",
        "a = len(L)\n",
        "b = max(L)\n",
        "c = min(L)\n",
        "d = 0\n",
        "for x in range(a):\n",
        "  d += L[x]\n",
        "\n",
        "print(\"a = \" + str(a))\n",
        "print(\"b = \" + str(b))\n",
        "print(\"c = \" + str(c))\n",
        "print(\"d = \" + str(d))\n",
        "L.sort()\n",
        "print(\"e = \" + str(L))\n",
        "L.reverse()\n",
        "print(\"f = \" + str(L))\n"
      ],
      "execution_count": null,
      "outputs": [
        {
          "output_type": "stream",
          "text": [
            "a = 7\n",
            "b = 9\n",
            "c = 1\n",
            "d = 31\n",
            "e = [1, 2, 3, 4, 5, 7, 9]\n",
            "f = [9, 7, 5, 4, 3, 2, 1]\n"
          ],
          "name": "stdout"
        }
      ]
    },
    {
      "cell_type": "markdown",
      "metadata": {
        "id": "GiK8wBY60p6l",
        "colab_type": "text"
      },
      "source": [
        "Exercício 2"
      ]
    },
    {
      "cell_type": "code",
      "metadata": {
        "id": "LM2dnjvPzNHt",
        "colab_type": "code",
        "colab": {
          "base_uri": "https://localhost:8080/",
          "height": 68
        },
        "outputId": "4fb53ee4-c5ed-4fc2-892b-87d538f618f1"
      },
      "source": [
        "x = int(input(\"digite um valor: \"))\n",
        "y = int(input(\"digite outro valor: \"))\n",
        "z = ((x * 2) + (y * 2)) * ((x - y) * (x - y))\n",
        "print(z)"
      ],
      "execution_count": null,
      "outputs": [
        {
          "output_type": "stream",
          "text": [
            "digite um valor: 2\n",
            "digite outro valor: 3\n",
            "10\n"
          ],
          "name": "stdout"
        }
      ]
    },
    {
      "cell_type": "markdown",
      "metadata": {
        "id": "8-I4KUvT1dmY",
        "colab_type": "text"
      },
      "source": [
        "Exercício 3"
      ]
    },
    {
      "cell_type": "code",
      "metadata": {
        "id": "ekdqzKgh0upA",
        "colab_type": "code",
        "colab": {
          "base_uri": "https://localhost:8080/",
          "height": 34
        },
        "outputId": "24c92901-9e26-41a7-e46a-6cd127df2c0d"
      },
      "source": [
        "Lanchonete = {\"salgado\" : 4.5, \"lanche\" : 6.5, \"suco\" : 3, \"refrigerante\": 3.5, \"doce\": 1}\n",
        "print(Lanchonete)"
      ],
      "execution_count": null,
      "outputs": [
        {
          "output_type": "stream",
          "text": [
            "{'salgado': 4.5, 'lanche': 6.5, 'suco': 3, 'refrigerante': 3.5, 'doce': 1}\n"
          ],
          "name": "stdout"
        }
      ]
    },
    {
      "cell_type": "markdown",
      "metadata": {
        "id": "JnYIVKCadMTz",
        "colab_type": "text"
      },
      "source": [
        "# aula 21/08"
      ]
    },
    {
      "cell_type": "markdown",
      "metadata": {
        "id": "-jK7lDKWet3z",
        "colab_type": "text"
      },
      "source": [
        "exemplo 1"
      ]
    },
    {
      "cell_type": "code",
      "metadata": {
        "id": "bMoLIp-Jdt1a",
        "colab_type": "code",
        "colab": {
          "base_uri": "https://localhost:8080/"
        },
        "outputId": "af21012e-b61c-459c-f79b-974aa302d526"
      },
      "source": [
        "print(\"Hello World\")"
      ],
      "execution_count": null,
      "outputs": [
        {
          "output_type": "stream",
          "text": [
            "Hello World\n"
          ],
          "name": "stdout"
        }
      ]
    },
    {
      "cell_type": "markdown",
      "metadata": {
        "id": "iYQQnIK2i8kx",
        "colab_type": "text"
      },
      "source": [
        "exemplo 2"
      ]
    },
    {
      "cell_type": "code",
      "metadata": {
        "id": "dK8NptKJjcZu",
        "colab_type": "code",
        "colab": {
          "base_uri": "https://localhost:8080/",
          "height": 34
        },
        "outputId": "aaa7dea9-de23-4844-8778-b4753ec736b1"
      },
      "source": [
        "import cv2\n",
        "import numpy as np\n",
        "\n",
        "altura = 10\n",
        "largura = 10\n",
        "img = np.zeros([altura, largura, 3])\n",
        "for py in range(altura):\n",
        "  for px in range(largura):\n",
        "    img[py][px][0] = 67\n",
        "    img[py][px][1] = 125\n",
        "    img[py][px][2] = 231\n",
        "cv2.imwrite(\"color_img.png\", img)\n"
      ],
      "execution_count": 1,
      "outputs": [
        {
          "output_type": "execute_result",
          "data": {
            "text/plain": [
              "True"
            ]
          },
          "metadata": {
            "tags": []
          },
          "execution_count": 1
        }
      ]
    }
  ]
}