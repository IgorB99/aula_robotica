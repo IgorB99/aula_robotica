{
  "nbformat": 4,
  "nbformat_minor": 0,
  "metadata": {
    "colab": {
      "name": "aula_robotica_2020.ipynb",
      "provenance": [],
      "toc_visible": true,
      "authorship_tag": "ABX9TyP/3I7bjF44TuV7LZ6d8Jnw",
      "include_colab_link": true
    },
    "kernelspec": {
      "name": "python3",
      "display_name": "Python 3"
    }
  },
  "cells": [
    {
      "cell_type": "markdown",
      "metadata": {
        "id": "view-in-github",
        "colab_type": "text"
      },
      "source": [
        "<a href=\"https://colab.research.google.com/github/IgorB99/aula_robotica/blob/master/aula_robotica_2020.ipynb\" target=\"_parent\"><img src=\"https://colab.research.google.com/assets/colab-badge.svg\" alt=\"Open In Colab\"/></a>"
      ]
    },
    {
      "cell_type": "markdown",
      "metadata": {
        "id": "rn0pq9lFgzPk",
        "colab_type": "text"
      },
      "source": [
        "#aula 11/09"
      ]
    },
    {
      "cell_type": "code",
      "metadata": {
        "id": "T5YKFEc4g3Wz",
        "colab_type": "code",
        "colab": {}
      },
      "source": [
        ""
      ],
      "execution_count": 5,
      "outputs": []
    },
    {
      "cell_type": "markdown",
      "metadata": {
        "id": "dmNxV4zYmkq-",
        "colab_type": "text"
      },
      "source": [
        "#aula 10/09"
      ]
    },
    {
      "cell_type": "markdown",
      "metadata": {
        "id": "TXdDP0GRASvz",
        "colab_type": "text"
      },
      "source": [
        "mudar o brilho e contraste da imagem"
      ]
    },
    {
      "cell_type": "code",
      "metadata": {
        "id": "NnLUL9-l2tYK",
        "colab_type": "code",
        "colab": {}
      },
      "source": [
        "import cv2\n",
        "import numpy as np\n",
        "\n",
        "def contrasteBrilho(img, alpha, beta):\n",
        "  for y in range(img.shape[0]):\n",
        "    for x in range(img.shape[1]):\n",
        "      for c in range(img.shape[2]):\n",
        "        img[y, x, c] = np.clip(alpha * img[y, x, c] + beta, 0, 255)\n",
        "  cv2.imwrite(\"fileCB.jpg\", img)\n",
        "\n",
        "image = cv2.imread(\"file.jpg\")\n",
        "\n",
        "contrasteBrilho(img, 2, 100)\n",
        "\n"
      ],
      "execution_count": null,
      "outputs": []
    },
    {
      "cell_type": "markdown",
      "metadata": {
        "id": "6zv23WZeAbWJ",
        "colab_type": "text"
      },
      "source": [
        "mudar a resolução da imagem"
      ]
    },
    {
      "cell_type": "code",
      "metadata": {
        "id": "EWAQ31cl92wd",
        "colab_type": "code",
        "colab": {}
      },
      "source": [
        "import cv2\n",
        "import numpy as np\n",
        "\n",
        "\n",
        "def Resize_imagem(img, escale_percent):\n",
        "  altura = int(img.shape[1] * escale_percent / 100)\n",
        "  largura = int(img.shape[0] * escale_percent / 100)\n",
        "  dim = (altura, largura)\n",
        "\n",
        "  nova_imagem = cv2.resize(img, dim, interpolation = cv2.INTER_AREA)\n",
        "  cv2.imwrite(\"file\" + str(escale_percent) + \"%.jpg\", nova_imagem)\n",
        "\n",
        "image = cv2.imread(\"file.jpg\")\n",
        "\n",
        "Resize_imagem(image, 200)"
      ],
      "execution_count": null,
      "outputs": []
    },
    {
      "cell_type": "code",
      "metadata": {
        "id": "gmVB3OJKmr6Z",
        "colab_type": "code",
        "colab": {
          "base_uri": "https://localhost:8080/",
          "height": 401
        },
        "outputId": "cc9a9775-071f-4f09-a294-479bc5651de4"
      },
      "source": [
        "import cv2\n",
        "import numpy as np\n",
        "import matplotlib.pylab as plt\n",
        "\n",
        "image = cv2.imread(\"circulos.jpg\")\n",
        "img = cv2.cvtColor(image, cv2.COLOR_BGR2GRAY)\n",
        "height, width, bytesByPixel = np.shape(image)\n",
        "\n",
        "histogram = cv2.calcHist([img],[0],None,[256],[0,256])\n",
        "#for x in range(0,255):\n",
        "#  print( x, \"\\t\",int(histogram[x]),end=\"\\n\")\n",
        "\n",
        "print(\"\\nvalores de pico\")\n",
        "for i in range(254):\n",
        "  pto_mais = histogram[i + 1] - histogram[i]\n",
        "  pto_menos = histogram[i + 2] - histogram[i + 1]\n",
        "  if (( pto_mais > 1000) and (pto_menos < 0) and pto_mais < 10000):\n",
        "    print ( int(i + 1), \"\\t\", int(pto_mais), \"\\t\", int(pto_menos), end = \"\\n\")\n",
        "\n",
        "color = (\"b\", \"g\", \"r\")\n",
        "for i, col in enumerate(color):\n",
        "  histr = cv2.calcHist([img], [0], None, [256], [0, 256])\n",
        "  plt.plot(histr, color = col)\n",
        "  plt.xlim([0, 256])\n",
        "plt.show()\n",
        "\n",
        "cv2.imwrite(\"teste.jpg\", img)"
      ],
      "execution_count": 6,
      "outputs": [
        {
          "output_type": "stream",
          "text": [
            "\n",
            "valores de pico\n",
            "91 \t 5825 \t -5787\n",
            "122 \t 5482 \t -5178\n",
            "127 \t 5718 \t -5749\n",
            "192 \t 6017 \t -5936\n",
            "196 \t 6637 \t -6930\n"
          ],
          "name": "stdout"
        },
        {
          "output_type": "display_data",
          "data": {
            "image/png": "[encoded data removed]",
            "text/plain": [
              "<Figure size 432x288 with 1 Axes>"
            ]
          },
          "metadata": {
            "tags": [],
            "needs_background": "light"
          }
        },
        {
          "output_type": "execute_result",
          "data": {
            "text/plain": [
              "True"
            ]
          },
          "metadata": {
            "tags": []
          },
          "execution_count": 6
        }
      ]
    },
    {
      "cell_type": "markdown",
      "metadata": {
        "id": "ZgbDVUhwytJp",
        "colab_type": "text"
      },
      "source": [
        "Exercício"
      ]
    },
    {
      "cell_type": "code",
      "metadata": {
        "id": "PSYER8l4TxiM",
        "colab_type": "code",
        "colab": {
          "base_uri": "https://localhost:8080/",
          "height": 587
        },
        "outputId": "76df7d39-a4e6-4834-8a5f-f517453574bb"
      },
      "source": [
        "import cv2\n",
        "import numpy as np\n",
        "import matplotlib.pylab as plt\n",
        "from IPython.display import Image\n",
        "\n",
        "image = cv2.imread(\"circulos.jpg\")\n",
        "img = cv2.cvtColor(image, cv2.COLOR_BGR2GRAY)\n",
        "height, width = np.shape(img)\n",
        "\n",
        "def coordenadas(pico):\n",
        "  listPX = []\n",
        "  listPY = []\n",
        "  \n",
        "  _, thresh1 = cv2.threshold(img, pico, 255, cv2.THRESH_TOZERO_INV)\n",
        "  _, thresh2 = cv2.threshold(thresh1, pico - 1, 255, cv2.THRESH_TOZERO)\n",
        "\n",
        "  blur = cv2.blur(thresh2, (3,3))\n",
        "\n",
        "  for py in range(height):\n",
        "   for px in range(width):\n",
        "      if blur[py][px] == pico:\n",
        "        listPX.append(px)\n",
        "        listPY.append(py)\n",
        "  \n",
        "  inicio = [min(listPX), min(listPY)]\n",
        "  termino = [max(listPX), max(listPY)] \n",
        "  cv2.rectangle(img, (min(listPX), min(listPY)), (max(listPX), max(listPY)), [0, 0, 0],2)\n",
        "  print(str(pico) + \" início: \" + str(inicio) + \", término: \" + str(termino) + \"\\n\")\n",
        "  return img\n",
        "\n",
        "histogram = cv2.calcHist([img],[0],None,[256],[0, 256])\n",
        "for i in range(254):\n",
        "  pto_mais = histogram[i + 1] - histogram[i]\n",
        "  pto_menos = histogram[i + 2] - histogram[i + 1]\n",
        "  if (( pto_mais > 100) and (pto_menos < 0)):\n",
        "    coordenadas(i + 1)\n",
        "\n",
        "cv2.imwrite(\"new_circulos.jpg\", img)\n",
        "filename = \"new_circulos.jpg\"\n",
        "display(Image(filename))"
      ],
      "execution_count": 26,
      "outputs": [
        {
          "output_type": "stream",
          "text": [
            "91 início: [55, 30], término: [140, 127]\n",
            "\n",
            "122 início: [73, 209], término: [166, 294]\n",
            "\n",
            "127 início: [297, 168], término: [378, 256]\n",
            "\n",
            "192 início: [228, 281], término: [318, 369]\n",
            "\n",
            "196 início: [208, 32], término: [303, 126]\n",
            "\n"
          ],
          "name": "stdout"
        },
        {
          "output_type": "display_data",
          "data": {
            "image/jpeg": "[encoded data removed]",
            "text/plain": [
              "<IPython.core.display.Image object>"
            ]
          },
          "metadata": {
            "tags": []
          }
        }
      ]
    },
    {
      "cell_type": "markdown",
      "metadata": {
        "id": "LRpVBkCkpU0X",
        "colab_type": "text"
      },
      "source": [
        "#aula 04/09"
      ]
    },
    {
      "cell_type": "code",
      "metadata": {
        "id": "0fB8Dx1RpZEb",
        "colab_type": "code",
        "colab": {
          "base_uri": "https://localhost:8080/",
          "height": 34
        },
        "outputId": "c54f1bd2-477a-4a8c-8a15-80f193e1e925"
      },
      "source": [
        "import cv2\n",
        "import numpy as np\n",
        "\n",
        "image = cv2.imread(\"file.jpg\")\n",
        "height, width, bytesByPixel = np.shape(image)\n",
        "img = np.zeros([height, width, 3])\n",
        "\n",
        "for py in range(height):\n",
        "  for px in range(width):\n",
        "    img[py][px][0] = image[py][px][0]\n",
        "    img[py][px][1] = image[py][px][0]\n",
        "    img[py][px][2] = image[py][px][0]\n",
        "cv2.imwrite(\"file1.jpg\", img)\n",
        "\n",
        "for py in range(height):\n",
        "  for px in range(width):\n",
        "    img[py][px][0] = image[py][px][1]\n",
        "    img[py][px][1] = image[py][px][1]\n",
        "    img[py][px][2] = image[py][px][1]\n",
        "cv2.imwrite(\"file2.jpg\", img)\n",
        "\n",
        "for py in range(height):\n",
        "  for px in range(width):\n",
        "    img[py][px][0] = image[py][px][2]\n",
        "    img[py][px][1] = image[py][px][2]\n",
        "    img[py][px][2] = image[py][px][2]\n",
        "cv2.imwrite(\"file3.jpg\", img)\n",
        "\n",
        "img1 = cv2.imread(\"file1.jpg\", 0)\n",
        "img2 = cv2.imread(\"file2.jpg\", 0)\n",
        "img3 = cv2.imread(\"file3.jpg\", 0)\n",
        "ret, thresh1 = cv2.threshold(img1, 127, 255, cv2.THRESH_BINARY)\n",
        "ret, thresh2 = cv2.threshold(img2, 127, 255, cv2.THRESH_BINARY)\n",
        "ret, thresh3 = cv2.threshold(img3, 127, 255, cv2.THRESH_BINARY)\n",
        "\n",
        "cv2.imwrite(\"file1v2.jpg\", thresh1)\n",
        "cv2.imwrite(\"file2v2.jpg\", thresh2)\n",
        "cv2.imwrite(\"file3v2.jpg\", thresh3)"
      ],
      "execution_count": null,
      "outputs": [
        {
          "output_type": "execute_result",
          "data": {
            "text/plain": [
              "True"
            ]
          },
          "metadata": {
            "tags": []
          },
          "execution_count": 1
        }
      ]
    },
    {
      "cell_type": "markdown",
      "metadata": {
        "id": "ddcNiagSntjP",
        "colab_type": "text"
      },
      "source": [
        "#aula 03/09"
      ]
    },
    {
      "cell_type": "code",
      "metadata": {
        "id": "Sx32v4RuXyg3",
        "colab_type": "code",
        "colab": {
          "base_uri": "https://localhost:8080/",
          "height": 34
        },
        "outputId": "20b9bf76-b628-49b4-c9d3-055d1fdb8a79"
      },
      "source": [
        "import cv2\n",
        "import numpy as np\n",
        "\n",
        "image = cv2.imread(\"file.jpg\")\n",
        "height, width, bytesByPixel = np.shape(image)\n",
        "img = np.zeros([height, width, 3])\n",
        "\n",
        "for py in range(height):\n",
        "  for px in range(width):\n",
        "    c = (image[py][px][0] * 0.11) + (image[py][px][1] * 0.59) + (image[py][px][2] * 0.29)\n",
        "    img[py][px][0] = c\n",
        "    img[py][px][1] = c\n",
        "    img[py][px][2] = c\n",
        "cv2.imwrite(\"fileC.jpg\", img)"
      ],
      "execution_count": null,
      "outputs": [
        {
          "output_type": "execute_result",
          "data": {
            "text/plain": [
              "True"
            ]
          },
          "metadata": {
            "tags": []
          },
          "execution_count": 8
        }
      ]
    },
    {
      "cell_type": "code",
      "metadata": {
        "id": "HapObwAin1Kn",
        "colab_type": "code",
        "colab": {
          "base_uri": "https://localhost:8080/",
          "height": 265
        },
        "outputId": "17036cbe-579b-47f7-b5bf-5533abc16697"
      },
      "source": [
        "import cv2\n",
        "import matplotlib.pylab as plt\n",
        "\n",
        "imagem = cv2.imread(\"file.jpg\")\n",
        "color = (\"b\", \"g\", \"r\")\n",
        "for i, col in enumerate(color):\n",
        "  histr = cv2.calcHist([imagem], [i], None, [256], [0, 256])\n",
        "  plt.plot(histr, color = col)\n",
        "  plt.xlim([0, 256])\n",
        "plt.show()"
      ],
      "execution_count": null,
      "outputs": [
        {
          "output_type": "display_data",
          "data": {
            "image/png": "[encoded data removed]",
            "text/plain": [
              "<Figure size 432x288 with 1 Axes>"
            ]
          },
          "metadata": {
            "tags": [],
            "needs_background": "light"
          }
        }
      ]
    },
    {
      "cell_type": "markdown",
      "metadata": {
        "id": "Zyb4CzTxrqXQ",
        "colab_type": "text"
      },
      "source": [
        "#aula 28/08"
      ]
    },
    {
      "cell_type": "code",
      "metadata": {
        "id": "w8Ptj4rKumiU",
        "colab_type": "code",
        "colab": {
          "base_uri": "https://localhost:8080/",
          "height": 1000
        },
        "outputId": "597c09b6-2d54-43d1-dbeb-16e0a6cc7a7c"
      },
      "source": [
        "import cv2\n",
        "import numpy as np\n",
        "\n",
        "image = cv2.imread(\"color_img.png\")\n",
        "altura, largura, vytesPorPixel = np.shape(image)\n",
        "\n",
        "for index in range(3):\n",
        "  if index == 0:\n",
        "    print(\"azul\")\n",
        "  elif index == 1:\n",
        "    print(\"verde\")\n",
        "  else:\n",
        "    print(\"vermelho\")\n",
        "  for py in range(altura):\n",
        "    for px in range(largura):\n",
        "      print(image[py][px][index], '\\t', end='')\n",
        "    print(\"\\n\")"
      ],
      "execution_count": null,
      "outputs": [
        {
          "output_type": "stream",
          "text": [
            "azul\n",
            "0 \t0 \t0 \t0 \t0 \t0 \t0 \t0 \t0 \t0 \t\n",
            "\n",
            "0 \t0 \t0 \t0 \t0 \t0 \t0 \t0 \t0 \t0 \t\n",
            "\n",
            "0 \t0 \t0 \t0 \t0 \t0 \t0 \t0 \t0 \t0 \t\n",
            "\n",
            "0 \t0 \t0 \t0 \t0 \t0 \t0 \t0 \t0 \t0 \t\n",
            "\n",
            "0 \t0 \t0 \t0 \t0 \t0 \t0 \t0 \t0 \t0 \t\n",
            "\n",
            "0 \t0 \t0 \t0 \t0 \t0 \t0 \t0 \t0 \t0 \t\n",
            "\n",
            "0 \t0 \t0 \t0 \t0 \t0 \t0 \t0 \t0 \t0 \t\n",
            "\n",
            "0 \t0 \t0 \t0 \t0 \t0 \t0 \t0 \t0 \t0 \t\n",
            "\n",
            "0 \t0 \t0 \t0 \t0 \t0 \t0 \t0 \t0 \t0 \t\n",
            "\n",
            "0 \t0 \t0 \t0 \t0 \t0 \t0 \t0 \t0 \t0 \t\n",
            "\n",
            "verde\n",
            "255 \t255 \t255 \t255 \t255 \t255 \t255 \t255 \t255 \t255 \t\n",
            "\n",
            "255 \t255 \t255 \t255 \t255 \t255 \t255 \t255 \t255 \t255 \t\n",
            "\n",
            "255 \t255 \t255 \t255 \t255 \t255 \t255 \t255 \t255 \t255 \t\n",
            "\n",
            "255 \t255 \t255 \t255 \t255 \t255 \t255 \t255 \t255 \t255 \t\n",
            "\n",
            "255 \t255 \t255 \t255 \t255 \t255 \t255 \t255 \t255 \t255 \t\n",
            "\n",
            "255 \t255 \t255 \t255 \t255 \t255 \t255 \t255 \t255 \t255 \t\n",
            "\n",
            "255 \t255 \t255 \t255 \t255 \t255 \t255 \t255 \t255 \t255 \t\n",
            "\n",
            "255 \t255 \t255 \t255 \t255 \t255 \t255 \t255 \t255 \t255 \t\n",
            "\n",
            "255 \t255 \t255 \t255 \t255 \t255 \t255 \t255 \t255 \t255 \t\n",
            "\n",
            "255 \t255 \t255 \t255 \t255 \t255 \t255 \t255 \t255 \t255 \t\n",
            "\n",
            "vermelho\n",
            "255 \t255 \t255 \t255 \t255 \t255 \t255 \t255 \t255 \t255 \t\n",
            "\n",
            "255 \t255 \t255 \t255 \t255 \t255 \t255 \t255 \t255 \t255 \t\n",
            "\n",
            "255 \t255 \t255 \t255 \t255 \t255 \t255 \t255 \t255 \t255 \t\n",
            "\n",
            "255 \t255 \t255 \t255 \t255 \t255 \t255 \t255 \t255 \t255 \t\n",
            "\n",
            "255 \t255 \t255 \t255 \t255 \t255 \t255 \t255 \t255 \t255 \t\n",
            "\n",
            "255 \t255 \t255 \t255 \t255 \t255 \t255 \t255 \t255 \t255 \t\n",
            "\n",
            "255 \t255 \t255 \t255 \t255 \t255 \t255 \t255 \t255 \t255 \t\n",
            "\n",
            "255 \t255 \t255 \t255 \t255 \t255 \t255 \t255 \t255 \t255 \t\n",
            "\n",
            "255 \t255 \t255 \t255 \t255 \t255 \t255 \t255 \t255 \t255 \t\n",
            "\n",
            "255 \t255 \t255 \t255 \t255 \t255 \t255 \t255 \t255 \t255 \t\n",
            "\n"
          ],
          "name": "stdout"
        }
      ]
    },
    {
      "cell_type": "code",
      "metadata": {
        "id": "UniQm-nIrxK7",
        "colab_type": "code",
        "colab": {
          "base_uri": "https://localhost:8080/",
          "height": 117
        },
        "outputId": "411fc72e-7db0-42bf-c4de-3159ecbe42dc"
      },
      "source": [
        "from IPython.display import Image\n",
        "\n",
        "filename = \"color_img.png\"\n",
        "\n",
        "display(Image(filename))"
      ],
      "execution_count": null,
      "outputs": [
        {
          "output_type": "display_data",
          "data": {
            "image/png": "[encoded data removed]",
            "text/plain": [
              "<IPython.core.display.Image object>"
            ]
          },
          "metadata": {
            "tags": []
          }
        }
      ]
    },
    {
      "cell_type": "markdown",
      "metadata": {
        "id": "oWYnWVUHi63d",
        "colab_type": "text"
      },
      "source": [
        "#aula 27/08"
      ]
    },
    {
      "cell_type": "markdown",
      "metadata": {
        "id": "A2CfaLRQlr-e",
        "colab_type": "text"
      },
      "source": [
        "lista: um array"
      ]
    },
    {
      "cell_type": "code",
      "metadata": {
        "id": "GlqsgDm4jPwV",
        "colab_type": "code",
        "colab": {
          "base_uri": "https://localhost:8080/",
          "height": 34
        },
        "outputId": "a717d7c7-b31a-412c-8228-c477c8d12cf8"
      },
      "source": [
        "lista1 = [1, 2, 3, \"oi\"]\n",
        "print(lista1[1])"
      ],
      "execution_count": null,
      "outputs": [
        {
          "output_type": "stream",
          "text": [
            "2\n"
          ],
          "name": "stdout"
        }
      ]
    },
    {
      "cell_type": "markdown",
      "metadata": {
        "id": "xn_yBUtOlhhy",
        "colab_type": "text"
      },
      "source": [
        "tuplas: um array cujo valor não pode ser alterado"
      ]
    },
    {
      "cell_type": "code",
      "metadata": {
        "id": "nH76cOd8lSmN",
        "colab_type": "code",
        "colab": {
          "base_uri": "https://localhost:8080/",
          "height": 34
        },
        "outputId": "b3445f6f-0bdf-40d2-beaf-3e87302d722a"
      },
      "source": [
        "tuplas1 = (1, 2, 3, \"oi\")\n",
        "print(tuplas1[1])"
      ],
      "execution_count": null,
      "outputs": [
        {
          "output_type": "stream",
          "text": [
            "2\n"
          ],
          "name": "stdout"
        }
      ]
    },
    {
      "cell_type": "markdown",
      "metadata": {
        "id": "CChtB6ndl5K9",
        "colab_type": "text"
      },
      "source": [
        "dicionário: um array onde cada valor possui um index"
      ]
    },
    {
      "cell_type": "code",
      "metadata": {
        "id": "TGlJ8ZqRlv3w",
        "colab_type": "code",
        "colab": {
          "base_uri": "https://localhost:8080/",
          "height": 34
        },
        "outputId": "4873ab9d-7d8d-44c7-97b4-42e7a66d0e71"
      },
      "source": [
        "dicionario1 = {\"arroz\" : 13.5, \"feijão\" : 10.3, \"carne\" : 6.9}\n",
        "print(dicionario1[\"feijão\"])"
      ],
      "execution_count": null,
      "outputs": [
        {
          "output_type": "stream",
          "text": [
            "10.3\n"
          ],
          "name": "stdout"
        }
      ]
    },
    {
      "cell_type": "code",
      "metadata": {
        "id": "UCwZCoKvqo6z",
        "colab_type": "code",
        "colab": {
          "base_uri": "https://localhost:8080/",
          "height": 34
        },
        "outputId": "f5c5a1cc-3ca4-4c86-e107-83f72679645d"
      },
      "source": [
        "import numpy as np\n",
        "\n",
        "a = np.array([[1, 2, 3], [4, 5, 6], [7, 8, 9]])\n",
        "print(a[1][0])"
      ],
      "execution_count": null,
      "outputs": [
        {
          "output_type": "stream",
          "text": [
            "4\n"
          ],
          "name": "stdout"
        }
      ]
    },
    {
      "cell_type": "markdown",
      "metadata": {
        "id": "zn-8lNJ-zDMW",
        "colab_type": "text"
      },
      "source": [
        "Exercício 1"
      ]
    },
    {
      "cell_type": "code",
      "metadata": {
        "id": "sVMc7NfBt5w8",
        "colab_type": "code",
        "colab": {
          "base_uri": "https://localhost:8080/",
          "height": 119
        },
        "outputId": "8028bf5a-3b86-49a3-c6cb-0f8afc34dce5"
      },
      "source": [
        "L = [5, 7, 2, 9, 4, 1, 3]\n",
        "a = len(L)\n",
        "b = max(L)\n",
        "c = min(L)\n",
        "d = 0\n",
        "for x in range(a):\n",
        "  d += L[x]\n",
        "\n",
        "print(\"a = \" + str(a))\n",
        "print(\"b = \" + str(b))\n",
        "print(\"c = \" + str(c))\n",
        "print(\"d = \" + str(d))\n",
        "L.sort()\n",
        "print(\"e = \" + str(L))\n",
        "L.reverse()\n",
        "print(\"f = \" + str(L))\n"
      ],
      "execution_count": null,
      "outputs": [
        {
          "output_type": "stream",
          "text": [
            "a = 7\n",
            "b = 9\n",
            "c = 1\n",
            "d = 31\n",
            "e = [1, 2, 3, 4, 5, 7, 9]\n",
            "f = [9, 7, 5, 4, 3, 2, 1]\n"
          ],
          "name": "stdout"
        }
      ]
    },
    {
      "cell_type": "markdown",
      "metadata": {
        "id": "GiK8wBY60p6l",
        "colab_type": "text"
      },
      "source": [
        "Exercício 2"
      ]
    },
    {
      "cell_type": "code",
      "metadata": {
        "id": "LM2dnjvPzNHt",
        "colab_type": "code",
        "colab": {
          "base_uri": "https://localhost:8080/",
          "height": 68
        },
        "outputId": "4fb53ee4-c5ed-4fc2-892b-87d538f618f1"
      },
      "source": [
        "x = int(input(\"digite um valor: \"))\n",
        "y = int(input(\"digite outro valor: \"))\n",
        "z = ((x * 2) + (y * 2)) * ((x - y) * (x - y))\n",
        "print(z)"
      ],
      "execution_count": null,
      "outputs": [
        {
          "output_type": "stream",
          "text": [
            "digite um valor: 2\n",
            "digite outro valor: 3\n",
            "10\n"
          ],
          "name": "stdout"
        }
      ]
    },
    {
      "cell_type": "markdown",
      "metadata": {
        "id": "8-I4KUvT1dmY",
        "colab_type": "text"
      },
      "source": [
        "Exercício 3"
      ]
    },
    {
      "cell_type": "code",
      "metadata": {
        "id": "ekdqzKgh0upA",
        "colab_type": "code",
        "colab": {
          "base_uri": "https://localhost:8080/",
          "height": 34
        },
        "outputId": "24c92901-9e26-41a7-e46a-6cd127df2c0d"
      },
      "source": [
        "Lanchonete = {\"salgado\" : 4.5, \"lanche\" : 6.5, \"suco\" : 3, \"refrigerante\": 3.5, \"doce\": 1}\n",
        "print(Lanchonete)"
      ],
      "execution_count": null,
      "outputs": [
        {
          "output_type": "stream",
          "text": [
            "{'salgado': 4.5, 'lanche': 6.5, 'suco': 3, 'refrigerante': 3.5, 'doce': 1}\n"
          ],
          "name": "stdout"
        }
      ]
    },
    {
      "cell_type": "markdown",
      "metadata": {
        "id": "JnYIVKCadMTz",
        "colab_type": "text"
      },
      "source": [
        "# aula 21/08"
      ]
    },
    {
      "cell_type": "markdown",
      "metadata": {
        "id": "-jK7lDKWet3z",
        "colab_type": "text"
      },
      "source": [
        "exemplo 1"
      ]
    },
    {
      "cell_type": "code",
      "metadata": {
        "id": "bMoLIp-Jdt1a",
        "colab_type": "code",
        "colab": {
          "base_uri": "https://localhost:8080/"
        },
        "outputId": "af21012e-b61c-459c-f79b-974aa302d526"
      },
      "source": [
        "print(\"Hello World\")"
      ],
      "execution_count": null,
      "outputs": [
        {
          "output_type": "stream",
          "text": [
            "Hello World\n"
          ],
          "name": "stdout"
        }
      ]
    },
    {
      "cell_type": "markdown",
      "metadata": {
        "id": "iYQQnIK2i8kx",
        "colab_type": "text"
      },
      "source": [
        "exemplo 2"
      ]
    },
    {
      "cell_type": "code",
      "metadata": {
        "id": "dK8NptKJjcZu",
        "colab_type": "code",
        "colab": {
          "base_uri": "https://localhost:8080/",
          "height": 34
        },
        "outputId": "0c6d02d8-788a-4fe0-baa8-a7dc33923138"
      },
      "source": [
        "import cv2\n",
        "import numpy as np\n",
        "\n",
        "altura = 10\n",
        "largura = 10\n",
        "img = np.zeros([altura, largura, 3])\n",
        "for py in range(altura):\n",
        "  for px in range(largura):\n",
        "    img[py][px][0] = 67\n",
        "    img[py][px][1] = 125\n",
        "    img[py][px][2] = 231\n",
        "cv2.imwrite(\"color_img.png\", img)\n"
      ],
      "execution_count": 1,
      "outputs": [
        {
          "output_type": "execute_result",
          "data": {
            "text/plain": [
              "True"
            ]
          },
          "metadata": {
            "tags": []
          },
          "execution_count": 1
        }
      ]
    }
  ]
}