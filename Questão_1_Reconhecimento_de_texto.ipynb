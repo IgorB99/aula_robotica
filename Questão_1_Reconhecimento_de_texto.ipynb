{
  "nbformat": 4,
  "nbformat_minor": 0,
  "metadata": {
    "colab": {
      "name": "Questão 1: Reconhecimento de texto.ipynb",
      "provenance": [],
      "collapsed_sections": [],
      "authorship_tag": "ABX9TyMZNVVtZqoHoL2H4cSPCZiQ",
      "include_colab_link": true
    },
    "kernelspec": {
      "name": "python3",
      "display_name": "Python 3"
    }
  },
  "cells": [
    {
      "cell_type": "markdown",
      "metadata": {
        "id": "view-in-github",
        "colab_type": "text"
      },
      "source": [
        "<a href=\"https://colab.research.google.com/github/IgorB99/aula_robotica/blob/master/Quest%C3%A3o_1_Reconhecimento_de_texto.ipynb\" target=\"_parent\"><img src=\"https://colab.research.google.com/assets/colab-badge.svg\" alt=\"Open In Colab\"/></a>"
      ]
    },
    {
      "cell_type": "code",
      "metadata": {
        "id": "Qw-LGDQ10xg4"
      },
      "source": [
        "#dataset usado no projeto: https://www.kaggle.com/ashishguptajiit/handwritten-az\n",
        "import pandas as pd\n",
        "dados = pd.read_csv(\"handwritten_data_785.csv\")"
      ],
      "execution_count": 45,
      "outputs": []
    },
    {
      "cell_type": "code",
      "metadata": {
        "id": "FzNmN_Uc1cbS"
      },
      "source": [
        "dados_entrada = dados.drop(\"0\", axis=1)\n",
        "dados_saida = dados[\"0\"]"
      ],
      "execution_count": 46,
      "outputs": []
    },
    {
      "cell_type": "code",
      "metadata": {
        "id": "cAXbJAbdGlle"
      },
      "source": [
        "#rede Neural\n",
        "\n",
        "from sklearn.model_selection import train_test_split\n",
        "from sklearn.preprocessing import StandardScaler\n",
        "from sklearn.neural_network import MLPClassifier\n",
        "\n",
        "dados_entrada_treino, dados_entrada_teste, dados_saida_treino, dados_saida_teste = train_test_split(dados_entrada, dados_saida, test_size=0.5, random_state = 42, shuffle=True)\n",
        "\n",
        "normaliza = StandardScaler()\n",
        "normaliza = normaliza.fit(dados_entrada_treino)\n",
        "\n",
        "dados_entrada_treino = normaliza.transform(dados_entrada_treino)\n",
        "dados_entrada_teste = normaliza.transform(dados_entrada_teste)\n",
        "\n",
        "clf = MLPClassifier(activation = \"logistic\", solver = \"lbfgs\", max_iter = 1000)\n",
        "clf = clf.fit(dados_entrada_treino, dados_saida_treino)"
      ],
      "execution_count": 47,
      "outputs": []
    },
    {
      "cell_type": "code",
      "metadata": {
        "id": "grii4KzcI4tq",
        "outputId": "90891ebc-85de-4dc6-e1a8-511e6246f425",
        "colab": {
          "base_uri": "https://localhost:8080/"
        }
      },
      "source": [
        "#teste da rede\n",
        "\n",
        "from sklearn.metrics import accuracy_score\n",
        "\n",
        "calculado = clf.predict(dados_entrada_teste)\n",
        "real = dados_saida_teste.values\n",
        "print(\"Calculado: \",calculado[0:5])\n",
        "print(\"Saida: \",real[0:5])\n",
        "\n",
        "print(accuracy_score(real, calculado))"
      ],
      "execution_count": 48,
      "outputs": [
        {
          "output_type": "stream",
          "text": [
            "Calculado:  [ 9 17 14 13 25]\n",
            "Saida:  [ 9 17 14 13 25]\n",
            "0.9558217171364215\n"
          ],
          "name": "stdout"
        }
      ]
    },
    {
      "cell_type": "code",
      "metadata": {
        "id": "zYZ4EnrnU1L3",
        "outputId": "009a7b09-c7d3-471d-825f-a13a31beddcb",
        "colab": {
          "base_uri": "https://localhost:8080/",
          "height": 577
        }
      },
      "source": [
        "import cv2\n",
        "import numpy as np\n",
        "from google.colab.patches import cv2_imshow\n",
        "\n",
        "#abrir e formatar imagem\n",
        "img = cv2.imread(\"hello.png\")\n",
        "altura, largura, pixel = np.shape(img)\n",
        "imgray = cv2.cvtColor(img, cv2.COLOR_BGR2GRAY)\n",
        "_, thresh = cv2.threshold(imgray, 210, 10, 0)\n",
        "contours, _ = cv2.findContours(thresh, cv2.RETR_TREE, cv2.CHAIN_APPROX_NONE)\n",
        "\n",
        "#identificar a letra \n",
        "def cal(x):\n",
        "  if x == 0:\n",
        "    resultado = \"A\"\n",
        "  elif x == 1:\n",
        "    resultado = \"B\"\n",
        "  elif x == 2:\n",
        "    resultado = \"C\"\n",
        "  elif x == 3:\n",
        "    resultado = \"D\"\n",
        "  elif x == 4:\n",
        "    resultado = \"E\"\n",
        "  elif x == 5:\n",
        "    resultado = \"F\"\n",
        "  elif x == 6:\n",
        "    resultado = \"G\"\n",
        "  elif x == 7:\n",
        "    resultado = \"H\"\n",
        "  elif x == 8:\n",
        "    resultado = \"I\"\n",
        "  elif x == 9:\n",
        "    resultado = \"J\"\n",
        "  elif x == 10:\n",
        "    resultado = \"K\"\n",
        "  elif x == 11:\n",
        "    resultado = \"L\"\n",
        "  elif x == 12:\n",
        "    resultado = \"M\"\n",
        "  elif x == 13:\n",
        "    resultado = \"N\"\n",
        "  elif x == 14:\n",
        "    resultado = \"O\"\n",
        "  elif x == 15:\n",
        "    resultado = \"P\"\n",
        "  elif x == 16:\n",
        "    resultado = \"Q\"\n",
        "  elif x == 17:\n",
        "    resultado = \"R\"\n",
        "  elif x == 18:\n",
        "    resultado = \"S\"\n",
        "  elif x == 19:\n",
        "    resultado = \"T\"\n",
        "  elif x == 20:\n",
        "    resultado = \"U\"\n",
        "  elif x == 21:\n",
        "    resultado = \"V\"\n",
        "  elif x == 22:\n",
        "    resultado = \"W\"\n",
        "  elif x == 23:\n",
        "    resultado = \"X\"\n",
        "  elif x == 24:\n",
        "    resultado = \"Y\"\n",
        "  elif x == 25:\n",
        "    resultado = \"Z\"\n",
        "  return resultado\n",
        "\n",
        "#encontar as coordenadas de cada letra\n",
        "def new_image(x):\n",
        "  listPX = []\n",
        "  listPY = []\n",
        "\n",
        "  for py in range(altura):\n",
        "    for px in range(largura):\n",
        "      if x[py][px][0] != 0:\n",
        "        listPX.append(px)\n",
        "        listPY.append(py)\n",
        "  \n",
        "  new_image_black = image_black[(min(listPY) - 50):(max(listPY) + 50), (min(listPX) - 50):(max(listPX) + 50)]\n",
        "  return new_image_black\n",
        "\n",
        "letras = []\n",
        "image_black = np.zeros([altura, largura, 3])\n",
        "\n",
        "#encontrar contornos, alterar a resolução e encontrar letras \n",
        "for contours in contours:\n",
        "  for py in range(altura):\n",
        "    for px in range(largura):\n",
        "      image_black[py][px][0] = 0\n",
        "      image_black[py][px][1] = 0\n",
        "      image_black[py][px][2] = 0\n",
        "\n",
        "  area = cv2.contourArea(contours)\n",
        "  \n",
        "  if area > 100:\n",
        "    cv2.drawContours(image_black, contours, -1, (255, 255, 255), 10)\n",
        "    new_image_black = new_image(image_black)\n",
        "\n",
        "    dim = (28, 28)\n",
        "    image = cv2.resize(new_image_black, dim, interpolation = cv2.INTER_AREA)\n",
        "    altura28, largura28, pixel = np.shape(image)\n",
        "    dado = []\n",
        "    for py in range(altura28):\n",
        "      for px in range(largura28):\n",
        "        dado.append(image[py][px][0])\n",
        "    calculado = clf.predict([dado])\n",
        "    resultado = cal(calculado)\n",
        "    if resultado in letras:\n",
        "      continue\n",
        "    else:  \n",
        "      letras.append(resultado)\n",
        "\n",
        "cv2_imshow(img)\n",
        "print(\"letras encontradas: \", letras)"
      ],
      "execution_count": 67,
      "outputs": [
        {
          "output_type": "display_data",
          "data": {
            "image/png": "[encoded data removed]",
            "text/plain": [
              "<PIL.Image.Image image mode=RGB size=796x543 at 0x7FA9ED8E20B8>"
            ]
          },
          "metadata": {
            "tags": []
          }
        },
        {
          "output_type": "stream",
          "text": [
            "letras encontradas:  ['O', 'W', 'R', 'N', 'E', 'H']\n"
          ],
          "name": "stdout"
        }
      ]
    }
  ]
}